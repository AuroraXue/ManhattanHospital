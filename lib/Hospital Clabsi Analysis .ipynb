{
 "cells": [
  {
   "cell_type": "code",
   "execution_count": 170,
   "metadata": {
    "collapsed": false,
    "scrolled": true
   },
   "outputs": [],
   "source": [
    "import pandas as pd\n",
    "import numpy as np\n",
    "from clabsi_utils import *\n",
    "import statsmodels.api as sm\n",
    "import matplotlib.pyplot as plt\n",
    "from sklearn import datasets\n",
    "from sklearn import linear_model\n",
    "import numpy as np\n",
    "\n",
    "from sklearn.datasets import load_boston\n",
    "from sklearn.ensemble import RandomForestRegressor\n",
    "\n",
    "%matplotlib inline"
   ]
  },
  {
   "cell_type": "code",
   "execution_count": 171,
   "metadata": {
    "collapsed": false,
    "scrolled": false
   },
   "outputs": [],
   "source": [
    "data = pd.read_csv('/Users/imrozeshaheen/Downloads/2016-10-04/data1_ssi_clabsi_101.csv')\n",
    "\n",
    "# test_data = graphlab.SFrame.read_csv(\n",
    "#     'data3_all_11_14_updated.csv', column_type_hints=column_type_hints\n",
    "# )"
   ]
  },
  {
   "cell_type": "code",
   "execution_count": 172,
   "metadata": {
    "collapsed": false
   },
   "outputs": [
    {
     "data": {
      "text/plain": [
       "Index([u'sex', u'race', u'age', u'Unnamed: 3', u'Unnamed: 4', u'Unnamed: 5',\n",
       "       u'Unnamed: 6', u'Unnamed: 7', u'Unnamed: 8', u'Unnamed: 9',\n",
       "       ...\n",
       "       u'ssi_acen_res', u'ssi_acen_sen', u'ssi_pseud_res', u'ssi_pseud_sen',\n",
       "       u'ssi_strep_res', u'ssi_strep_sen', u'losdays', u'race_desp', u'race_n',\n",
       "       u'clabsi'],\n",
       "      dtype='object', length=309)"
      ]
     },
     "execution_count": 172,
     "metadata": {},
     "output_type": "execute_result"
    }
   ],
   "source": [
    "\n",
    "data.columns"
   ]
  },
  {
   "cell_type": "markdown",
   "metadata": {},
   "source": [
    "Hypothesis: As the number of days in days in the ICU increases, the number of days with a central line in place increases."
   ]
  },
  {
   "cell_type": "code",
   "execution_count": 173,
   "metadata": {
    "collapsed": false,
    "scrolled": true
   },
   "outputs": [
    {
     "name": "stdout",
     "output_type": "stream",
     "text": [
      "const      18.838192\n",
      "icudays     0.490255\n",
      "dtype: float64\n"
     ]
    },
    {
     "data": {
      "image/png": "[encoded data removed]",
      "text/plain": [
       "<matplotlib.figure.Figure at 0x11ac69210>"
      ]
     },
     "metadata": {},
     "output_type": "display_data"
    }
   ],
   "source": [
    "data.plot.scatter('icudays', 'cvlinedays')\n",
    "data=data[['icudays','cvlinedays']].dropna()\n",
    "X = data.icudays\n",
    "Y = data.cvlinedays\n",
    "results = sm.OLS(Y,sm.add_constant(X)).fit()\n",
    "X_plot = np.linspace(0, 100, 200)\n",
    "plt.title('Days In ICU vs Days with Central Line Insertion')\n",
    "\n",
    "plt.plot(X_plot, X_plot*results.params[1] + results.params[0], color='c')\n",
    "print results.params\n"
   ]
  },
  {
   "cell_type": "markdown",
   "metadata": {},
   "source": [
    "<td></p>Figure 1. Days In ICU vs Days with Central Line Insertion</p></td>\n"
   ]
  },
  {
   "cell_type": "markdown",
   "metadata": {},
   "source": [
    "Patients in the ICU are more likely to have a central line inserted due to their critical condition."
   ]
  },
  {
   "cell_type": "code",
   "execution_count": 175,
   "metadata": {
    "collapsed": false,
    "scrolled": true
   },
   "outputs": [
    {
     "name": "stdout",
     "output_type": "stream",
     "text": [
      "const    10.762411\n",
      "age       0.305581\n",
      "dtype: float64\n"
     ]
    },
    {
     "data": {
      "image/png": "[encoded data removed]",
      "text/plain": [
       "<matplotlib.figure.Figure at 0x119a27f10>"
      ]
     },
     "metadata": {},
     "output_type": "display_data"
    }
   ],
   "source": [
    "data = pd.read_csv('/Users/imrozeshaheen/Downloads/2016-10-04/data1_ssi_clabsi_101.csv')\n",
    "data.plot.scatter('age', 'icudays')\n",
    "data=data[['age','icudays']].dropna()\n",
    "X = data.age\n",
    "Y = data.icudays\n",
    "results = sm.OLS(Y,sm.add_constant(X)).fit()\n",
    "X_plot = np.linspace(0, 110, 110) \n",
    "plt.xlim = (0,110)\n",
    "\n",
    "\n",
    "plt.xlabel('age')\n",
    "plt.plot(X_plot, X_plot*results.params[1] + results.params[0], color='c')\n",
    "print results.params\n",
    "\n",
    "\n"
   ]
  },
  {
   "cell_type": "markdown",
   "metadata": {
    "collapsed": true
   },
   "source": [
    "<td></p>Figure 1. Age vs Days in ICU</p></td>"
   ]
  },
  {
   "cell_type": "markdown",
   "metadata": {
    "collapsed": true
   },
   "source": [
    "As the age of a patient increases, the ability to recover decreases. Patients with a decreased ability to recover are likely to remain in a critical condition for longer, thereby increasing the number of days spent in the Intensive Care Unit."
   ]
  },
  {
   "cell_type": "code",
   "execution_count": null,
   "metadata": {
    "collapsed": true
   },
   "outputs": [],
   "source": []
  }
 ],
 "metadata": {
  "anaconda-cloud": {},
  "kernelspec": {
   "display_name": "Python [Root]",
   "language": "python",
   "name": "Python [Root]"
  },
  "language_info": {
   "codemirror_mode": {
    "name": "ipython",
    "version": 2
   },
   "file_extension": ".py",
   "mimetype": "text/x-python",
   "name": "python",
   "nbconvert_exporter": "python",
   "pygments_lexer": "ipython2",
   "version": "2.7.12"
  }
 },
 "nbformat": 4,
 "nbformat_minor": 0
}
